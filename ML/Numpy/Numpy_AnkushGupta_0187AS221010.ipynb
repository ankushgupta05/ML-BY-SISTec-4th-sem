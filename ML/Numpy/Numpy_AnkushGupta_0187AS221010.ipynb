{
 "cells": [
  {
   "cell_type": "markdown",
   "id": "38ea6d6b",
   "metadata": {},
   "source": [
    "# Numpy Experiment"
   ]
  },
  {
   "cell_type": "code",
   "execution_count": 1,
   "id": "fc727f65",
   "metadata": {},
   "outputs": [],
   "source": [
    "import numpy as np"
   ]
  },
  {
   "cell_type": "code",
   "execution_count": 2,
   "id": "2c75920f",
   "metadata": {},
   "outputs": [
    {
     "name": "stdout",
     "output_type": "stream",
     "text": [
      "[1, 2, 3, 4, 5, 6, 7, 8]\n",
      "<class 'list'>\n"
     ]
    }
   ],
   "source": [
    "a = [1,2,3,4,5,6,7,8]\n",
    "print(a)\n",
    "print(type(a))"
   ]
  },
  {
   "cell_type": "code",
   "execution_count": 3,
   "id": "cfc32677",
   "metadata": {},
   "outputs": [
    {
     "name": "stdout",
     "output_type": "stream",
     "text": [
      "[1 2 3 4 5 6 7 8]\n",
      "<class 'numpy.ndarray'>\n"
     ]
    }
   ],
   "source": [
    "a = np.array([1,2,3,4,5,6,7,8])\n",
    "print(a)\n",
    "print(type(a))"
   ]
  },
  {
   "cell_type": "markdown",
   "id": "d7e9878b",
   "metadata": {},
   "source": [
    "# ndim"
   ]
  },
  {
   "cell_type": "code",
   "execution_count": 4,
   "id": "1fc60a66",
   "metadata": {},
   "outputs": [
    {
     "data": {
      "text/plain": [
       "1"
      ]
     },
     "execution_count": 4,
     "metadata": {},
     "output_type": "execute_result"
    }
   ],
   "source": [
    "a.ndim"
   ]
  },
  {
   "cell_type": "code",
   "execution_count": 5,
   "id": "eaf435bb",
   "metadata": {},
   "outputs": [
    {
     "name": "stdout",
     "output_type": "stream",
     "text": [
      "[[1 2 3]\n",
      " [4 5 6]\n",
      " [7 8 9]]\n",
      "<class 'numpy.ndarray'>\n",
      "2\n"
     ]
    }
   ],
   "source": [
    "arr_2D = np.array([[1,2,3],[4,5,6],[7,8,9]])\n",
    "print(arr_2D)\n",
    "print(type(arr_2D))\n",
    "print(arr_2D.ndim)"
   ]
  },
  {
   "cell_type": "code",
   "execution_count": 13,
   "id": "f49400a3",
   "metadata": {},
   "outputs": [
    {
     "name": "stdout",
     "output_type": "stream",
     "text": [
      "[[[1 2 3]\n",
      "  [4 5 6]\n",
      "  [7 8 9]]\n",
      "\n",
      " [[1 2 3]\n",
      "  [4 5 6]\n",
      "  [7 8 9]]]\n",
      "<class 'numpy.ndarray'>\n",
      "3\n"
     ]
    }
   ],
   "source": [
    "arr_3D = np.array([[[1,2,3],[4,5,6],[7,8,9]],[[1,2,3],[4,5,6],[7,8,9]]])\n",
    "print(arr_3D)\n",
    "print(type(arr_3D))\n",
    "print(arr_3D.ndim)"
   ]
  },
  {
   "cell_type": "code",
   "execution_count": 26,
   "id": "cba5a1d2",
   "metadata": {},
   "outputs": [
    {
     "name": "stdout",
     "output_type": "stream",
     "text": [
      "[[1 1 1 1 1]\n",
      " [2 2 2 2 2]\n",
      " [3 3 3 3 3]\n",
      " [4 4 4 4 4]\n",
      " [5 5 5 5 5]]\n",
      "<class 'numpy.ndarray'>\n",
      "2\n"
     ]
    }
   ],
   "source": [
    "arr_5D = np.array([[1,1,1,1,1],[2,2,2,2,2],[3,3,3,3,3],[4,4,4,4,4],[5,5,5,5,5]])\n",
    "print(arr_5D)\n",
    "print(type(arr_5D))\n",
    "print(arr_5D.ndim)  # 5 X 5 matrix"
   ]
  },
  {
   "cell_type": "code",
   "execution_count": 27,
   "id": "32a51b1a",
   "metadata": {},
   "outputs": [
    {
     "name": "stdout",
     "output_type": "stream",
     "text": [
      "[[[0 0]\n",
      "  [1 1]]\n",
      "\n",
      " [[2 2]\n",
      "  [3 3]]\n",
      "\n",
      " [[4 4]\n",
      "  [5 5]]]\n",
      "<class 'numpy.ndarray'>\n",
      "3\n"
     ]
    }
   ],
   "source": [
    "arr = np.array([[[0,0],[1,1]],[[2,2],[3,3]],[[4,4],[5,5]]])\n",
    "print(arr)\n",
    "print(type(arr))\n",
    "print(arr.ndim)    #  '3 X 2 X 2'  matrix"
   ]
  },
  {
   "cell_type": "markdown",
   "id": "af8ebffe",
   "metadata": {},
   "source": [
    "# size(show element no)"
   ]
  },
  {
   "cell_type": "code",
   "execution_count": 30,
   "id": "d5da7a97",
   "metadata": {},
   "outputs": [
    {
     "data": {
      "text/plain": [
       "9"
      ]
     },
     "execution_count": 30,
     "metadata": {},
     "output_type": "execute_result"
    }
   ],
   "source": [
    "arr_2D.size"
   ]
  },
  {
   "cell_type": "code",
   "execution_count": 31,
   "id": "5cf0379e",
   "metadata": {},
   "outputs": [
    {
     "data": {
      "text/plain": [
       "12"
      ]
     },
     "execution_count": 31,
     "metadata": {},
     "output_type": "execute_result"
    }
   ],
   "source": [
    "arr.size"
   ]
  },
  {
   "cell_type": "markdown",
   "id": "6aaa2d25",
   "metadata": {},
   "source": [
    "# shape show no of rows"
   ]
  },
  {
   "cell_type": "code",
   "execution_count": 35,
   "id": "d4a99137",
   "metadata": {},
   "outputs": [
    {
     "data": {
      "text/plain": [
       "(3, 3)"
      ]
     },
     "execution_count": 35,
     "metadata": {},
     "output_type": "execute_result"
    }
   ],
   "source": [
    "arr_2D.shape"
   ]
  },
  {
   "cell_type": "code",
   "execution_count": 36,
   "id": "5461ed0f",
   "metadata": {},
   "outputs": [
    {
     "data": {
      "text/plain": [
       "(5, 5)"
      ]
     },
     "execution_count": 36,
     "metadata": {},
     "output_type": "execute_result"
    }
   ],
   "source": [
    "arr_5D.shape"
   ]
  },
  {
   "cell_type": "code",
   "execution_count": 34,
   "id": "26ee5a59",
   "metadata": {},
   "outputs": [
    {
     "data": {
      "text/plain": [
       "(3, 2, 2)"
      ]
     },
     "execution_count": 34,
     "metadata": {},
     "output_type": "execute_result"
    }
   ],
   "source": [
    "arr.shape"
   ]
  },
  {
   "cell_type": "markdown",
   "id": "71e43142",
   "metadata": {},
   "source": [
    "# dtype :- show data type of array"
   ]
  },
  {
   "cell_type": "code",
   "execution_count": 37,
   "id": "9bb6c15e",
   "metadata": {},
   "outputs": [
    {
     "data": {
      "text/plain": [
       "dtype('int32')"
      ]
     },
     "execution_count": 37,
     "metadata": {},
     "output_type": "execute_result"
    }
   ],
   "source": [
    "arr.dtype"
   ]
  },
  {
   "cell_type": "code",
   "execution_count": 38,
   "id": "ee5b5cfe",
   "metadata": {},
   "outputs": [
    {
     "name": "stdout",
     "output_type": "stream",
     "text": [
      "[1.1 2.2 3.3 4.4 5.5 6.6 7.7 8.8]\n",
      "float64\n"
     ]
    }
   ],
   "source": [
    "a1 = np.array([1.1,2.2,3.3,4.4,5.5,6.6,7.7,8.8])\n",
    "print(a1)\n",
    "print(a1.dtype)"
   ]
  },
  {
   "cell_type": "code",
   "execution_count": 43,
   "id": "8457fd1d",
   "metadata": {},
   "outputs": [
    {
     "name": "stdout",
     "output_type": "stream",
     "text": [
      "[[1 1 1 1]\n",
      " [1 1 1 1]\n",
      " [1 1 1 1]\n",
      " [1 1 1 1]]\n",
      "int32\n"
     ]
    }
   ],
   "source": [
    "a1 = np.array([[1,1,1,1],[1,1,1,1],[1,1,1,1],[1,1,1,1]])\n",
    "print(a1)\n",
    "print(a1.dtype)"
   ]
  },
  {
   "cell_type": "code",
   "execution_count": 44,
   "id": "bb7fd64d",
   "metadata": {},
   "outputs": [
    {
     "name": "stdout",
     "output_type": "stream",
     "text": [
      "[[0 0 0]\n",
      " [0 0 0]\n",
      " [0 0 0]]\n",
      "int32\n"
     ]
    }
   ],
   "source": [
    "a2 = np.array([[0,0,0],[0,0,0],[0,0,0]])\n",
    "print(a2)\n",
    "print(a2.dtype)"
   ]
  },
  {
   "cell_type": "markdown",
   "id": "1b9096f0",
   "metadata": {},
   "source": [
    "# ones() and zeros()  with dtype int str"
   ]
  },
  {
   "cell_type": "code",
   "execution_count": 45,
   "id": "69148d9c",
   "metadata": {},
   "outputs": [
    {
     "name": "stdout",
     "output_type": "stream",
     "text": [
      "[[1. 1. 1. 1.]\n",
      " [1. 1. 1. 1.]\n",
      " [1. 1. 1. 1.]\n",
      " [1. 1. 1. 1.]]\n",
      "float64\n"
     ]
    }
   ],
   "source": [
    "b1 = np.ones((4,4))\n",
    "print(b1)\n",
    "print(b1.dtype)"
   ]
  },
  {
   "cell_type": "code",
   "execution_count": 48,
   "id": "db2fa1cb",
   "metadata": {},
   "outputs": [
    {
     "name": "stdout",
     "output_type": "stream",
     "text": [
      "[[0 0 0]\n",
      " [0 0 0]\n",
      " [0 0 0]]\n",
      "int32\n"
     ]
    }
   ],
   "source": [
    "b1 = np.zeros((3,3),dtype=int)\n",
    "print(b1)\n",
    "print(b1.dtype)"
   ]
  },
  {
   "cell_type": "code",
   "execution_count": 51,
   "id": "6035cac8",
   "metadata": {},
   "outputs": [
    {
     "name": "stdout",
     "output_type": "stream",
     "text": [
      "[['1' '1' '1' '1']\n",
      " ['1' '1' '1' '1']\n",
      " ['1' '1' '1' '1']\n",
      " ['1' '1' '1' '1']]\n",
      "<U1\n"
     ]
    }
   ],
   "source": [
    "b1 = np.ones((4,4),dtype=str)\n",
    "print(b1)\n",
    "print(b1.dtype)"
   ]
  },
  {
   "cell_type": "code",
   "execution_count": 49,
   "id": "b262c112",
   "metadata": {},
   "outputs": [
    {
     "name": "stdout",
     "output_type": "stream",
     "text": [
      "[['' '' '']\n",
      " ['' '' '']\n",
      " ['' '' '']]\n",
      "<U1\n"
     ]
    }
   ],
   "source": [
    "b1 = np.zeros((3,3),dtype=str)\n",
    "print(b1)\n",
    "print(b1.dtype)"
   ]
  },
  {
   "cell_type": "code",
   "execution_count": 53,
   "id": "87ab468a",
   "metadata": {},
   "outputs": [
    {
     "name": "stdout",
     "output_type": "stream",
     "text": [
      "[[ True  True  True  True]\n",
      " [ True  True  True  True]\n",
      " [ True  True  True  True]\n",
      " [ True  True  True  True]]\n",
      "bool\n"
     ]
    }
   ],
   "source": [
    "b1 = np.ones((4,4),dtype=bool)\n",
    "print(b1)\n",
    "print(b1.dtype)"
   ]
  },
  {
   "cell_type": "code",
   "execution_count": 52,
   "id": "aca6d39f",
   "metadata": {},
   "outputs": [
    {
     "name": "stdout",
     "output_type": "stream",
     "text": [
      "[[False False False]\n",
      " [False False False]\n",
      " [False False False]]\n",
      "bool\n"
     ]
    }
   ],
   "source": [
    "b1 = np.zeros((3,3),dtype=bool)\n",
    "print(b1)\n",
    "print(b1.dtype)"
   ]
  },
  {
   "cell_type": "markdown",
   "id": "6250a55b",
   "metadata": {},
   "source": [
    "# empty"
   ]
  },
  {
   "cell_type": "code",
   "execution_count": 55,
   "id": "38833be6",
   "metadata": {},
   "outputs": [
    {
     "data": {
      "text/plain": [
       "array([[1., 1., 1., 1.],\n",
       "       [1., 1., 1., 1.],\n",
       "       [1., 1., 1., 1.],\n",
       "       [1., 1., 1., 1.]])"
      ]
     },
     "execution_count": 55,
     "metadata": {},
     "output_type": "execute_result"
    }
   ],
   "source": [
    "em_mx = np.empty((4,4))  # it give garbage value\n",
    "em_mx"
   ]
  },
  {
   "cell_type": "markdown",
   "id": "bd9f3453",
   "metadata": {},
   "source": [
    "# arange()"
   ]
  },
  {
   "cell_type": "code",
   "execution_count": null,
   "id": "a9687d40",
   "metadata": {},
   "outputs": [],
   "source": [
    "# np.arange(start_value,end_value,step)"
   ]
  },
  {
   "cell_type": "code",
   "execution_count": 56,
   "id": "e5533185",
   "metadata": {},
   "outputs": [
    {
     "data": {
      "text/plain": [
       "array([ 0,  1,  2,  3,  4,  5,  6,  7,  8,  9, 10, 11, 12])"
      ]
     },
     "execution_count": 56,
     "metadata": {},
     "output_type": "execute_result"
    }
   ],
   "source": [
    "ar_1d = np.arange(13)\n",
    "ar_1d"
   ]
  },
  {
   "cell_type": "code",
   "execution_count": 57,
   "id": "04784996",
   "metadata": {},
   "outputs": [
    {
     "data": {
      "text/plain": [
       "array([ 2,  3,  4,  5,  6,  7,  8,  9, 10, 11, 12])"
      ]
     },
     "execution_count": 57,
     "metadata": {},
     "output_type": "execute_result"
    }
   ],
   "source": [
    "ar_1d = np.arange(2,13)\n",
    "ar_1d"
   ]
  },
  {
   "cell_type": "markdown",
   "id": "a3bfb0e5",
   "metadata": {},
   "source": [
    "# linespace()"
   ]
  },
  {
   "cell_type": "code",
   "execution_count": 58,
   "id": "25b03443",
   "metadata": {},
   "outputs": [],
   "source": [
    "# np.arange(start_value,end_value,no of value b\\t start to end)"
   ]
  },
  {
   "cell_type": "code",
   "execution_count": 61,
   "id": "9c034b98",
   "metadata": {},
   "outputs": [
    {
     "data": {
      "text/plain": [
       "array([ 1.  ,  3.25,  5.5 ,  7.75, 10.  ])"
      ]
     },
     "execution_count": 61,
     "metadata": {},
     "output_type": "execute_result"
    }
   ],
   "source": [
    "np.linspace(1,10,5)"
   ]
  },
  {
   "cell_type": "code",
   "execution_count": 62,
   "id": "53594e32",
   "metadata": {},
   "outputs": [
    {
     "data": {
      "text/plain": [
       "array([100., 125., 150.])"
      ]
     },
     "execution_count": 62,
     "metadata": {},
     "output_type": "execute_result"
    }
   ],
   "source": [
    "np.linspace(100,150,3)"
   ]
  },
  {
   "cell_type": "markdown",
   "id": "741a7bc9",
   "metadata": {},
   "source": [
    "# reshape()"
   ]
  },
  {
   "cell_type": "code",
   "execution_count": 65,
   "id": "fb65c6d3",
   "metadata": {},
   "outputs": [
    {
     "data": {
      "text/plain": [
       "array([ 1.   ,  1.375,  1.75 ,  2.125,  2.5  ,  2.875,  3.25 ,  3.625,\n",
       "        4.   ,  4.375,  4.75 ,  5.125,  5.5  ,  5.875,  6.25 ,  6.625,\n",
       "        7.   ,  7.375,  7.75 ,  8.125,  8.5  ,  8.875,  9.25 ,  9.625,\n",
       "       10.   ])"
      ]
     },
     "execution_count": 65,
     "metadata": {},
     "output_type": "execute_result"
    }
   ],
   "source": [
    "a = np.linspace(1,10,25)\n",
    "a"
   ]
  },
  {
   "cell_type": "code",
   "execution_count": 67,
   "id": "b2fca923",
   "metadata": {},
   "outputs": [
    {
     "data": {
      "text/plain": [
       "array([[ 1.   ,  1.375,  1.75 ,  2.125,  2.5  ],\n",
       "       [ 2.875,  3.25 ,  3.625,  4.   ,  4.375],\n",
       "       [ 4.75 ,  5.125,  5.5  ,  5.875,  6.25 ],\n",
       "       [ 6.625,  7.   ,  7.375,  7.75 ,  8.125],\n",
       "       [ 8.5  ,  8.875,  9.25 ,  9.625, 10.   ]])"
      ]
     },
     "execution_count": 67,
     "metadata": {},
     "output_type": "execute_result"
    }
   ],
   "source": [
    "arr1 = a.reshape(5,5)\n",
    "arr1"
   ]
  },
  {
   "cell_type": "code",
   "execution_count": 76,
   "id": "51463e49",
   "metadata": {},
   "outputs": [
    {
     "data": {
      "text/plain": [
       "array([[[ 1,  2],\n",
       "        [ 3,  4]],\n",
       "\n",
       "       [[ 5,  6],\n",
       "        [ 7,  8]],\n",
       "\n",
       "       [[ 9, 10],\n",
       "        [11, 12]]])"
      ]
     },
     "execution_count": 76,
     "metadata": {},
     "output_type": "execute_result"
    }
   ],
   "source": [
    "arr2 = np.arange(1,13).reshape(3,2,2)\n",
    "arr2"
   ]
  },
  {
   "cell_type": "markdown",
   "id": "9753b4cc",
   "metadata": {},
   "source": [
    "# ravel()"
   ]
  },
  {
   "cell_type": "code",
   "execution_count": 77,
   "id": "980e4f63",
   "metadata": {},
   "outputs": [
    {
     "data": {
      "text/plain": [
       "array([[[ 1,  2],\n",
       "        [ 3,  4]],\n",
       "\n",
       "       [[ 5,  6],\n",
       "        [ 7,  8]],\n",
       "\n",
       "       [[ 9, 10],\n",
       "        [11, 12]]])"
      ]
     },
     "execution_count": 77,
     "metadata": {},
     "output_type": "execute_result"
    }
   ],
   "source": [
    "arr2 = np.arange(1,13).reshape(3,2,2)\n",
    "arr2"
   ]
  },
  {
   "cell_type": "code",
   "execution_count": 78,
   "id": "14a0bf29",
   "metadata": {},
   "outputs": [
    {
     "data": {
      "text/plain": [
       "array([ 1,  2,  3,  4,  5,  6,  7,  8,  9, 10, 11, 12])"
      ]
     },
     "execution_count": 78,
     "metadata": {},
     "output_type": "execute_result"
    }
   ],
   "source": [
    "arr2.ravel()"
   ]
  },
  {
   "cell_type": "markdown",
   "id": "81af0bb0",
   "metadata": {},
   "source": [
    "# transpose() or T"
   ]
  },
  {
   "cell_type": "code",
   "execution_count": 79,
   "id": "a26b924a",
   "metadata": {},
   "outputs": [
    {
     "data": {
      "text/plain": [
       "array([[ 1.   ,  1.375,  1.75 ,  2.125,  2.5  ],\n",
       "       [ 2.875,  3.25 ,  3.625,  4.   ,  4.375],\n",
       "       [ 4.75 ,  5.125,  5.5  ,  5.875,  6.25 ],\n",
       "       [ 6.625,  7.   ,  7.375,  7.75 ,  8.125],\n",
       "       [ 8.5  ,  8.875,  9.25 ,  9.625, 10.   ]])"
      ]
     },
     "execution_count": 79,
     "metadata": {},
     "output_type": "execute_result"
    }
   ],
   "source": [
    "arr = np.linspace(1,10,25).reshape(5,5)\n",
    "arr"
   ]
  },
  {
   "cell_type": "code",
   "execution_count": 80,
   "id": "243265be",
   "metadata": {},
   "outputs": [
    {
     "data": {
      "text/plain": [
       "array([[ 1.   ,  2.875,  4.75 ,  6.625,  8.5  ],\n",
       "       [ 1.375,  3.25 ,  5.125,  7.   ,  8.875],\n",
       "       [ 1.75 ,  3.625,  5.5  ,  7.375,  9.25 ],\n",
       "       [ 2.125,  4.   ,  5.875,  7.75 ,  9.625],\n",
       "       [ 2.5  ,  4.375,  6.25 ,  8.125, 10.   ]])"
      ]
     },
     "execution_count": 80,
     "metadata": {},
     "output_type": "execute_result"
    }
   ],
   "source": [
    "arr.transpose()  # it convert row to colum"
   ]
  },
  {
   "cell_type": "code",
   "execution_count": 81,
   "id": "277ad8f8",
   "metadata": {},
   "outputs": [
    {
     "data": {
      "text/plain": [
       "array([[ 1.   ,  2.875,  4.75 ,  6.625,  8.5  ],\n",
       "       [ 1.375,  3.25 ,  5.125,  7.   ,  8.875],\n",
       "       [ 1.75 ,  3.625,  5.5  ,  7.375,  9.25 ],\n",
       "       [ 2.125,  4.   ,  5.875,  7.75 ,  9.625],\n",
       "       [ 2.5  ,  4.375,  6.25 ,  8.125, 10.   ]])"
      ]
     },
     "execution_count": 81,
     "metadata": {},
     "output_type": "execute_result"
    }
   ],
   "source": [
    "arr.T   # it convert row to colum"
   ]
  },
  {
   "cell_type": "markdown",
   "id": "f13eb958",
   "metadata": {},
   "source": [
    "# mathematical operation using numpy"
   ]
  },
  {
   "cell_type": "code",
   "execution_count": 82,
   "id": "e511283c",
   "metadata": {},
   "outputs": [
    {
     "name": "stdout",
     "output_type": "stream",
     "text": [
      "[[1 2 3]\n",
      " [4 5 6]\n",
      " [7 8 9]]\n",
      "[[1 2 3]\n",
      " [4 5 6]\n",
      " [7 8 9]]\n"
     ]
    }
   ],
   "source": [
    "arr2 = np.arange(1,10).reshape(3,3)\n",
    "arr3 = np.arange(1,10).reshape(3,3)\n",
    "print(arr2)\n",
    "print(arr3)"
   ]
  },
  {
   "cell_type": "code",
   "execution_count": 83,
   "id": "12b89c6a",
   "metadata": {},
   "outputs": [
    {
     "name": "stdout",
     "output_type": "stream",
     "text": [
      "[[ 2  4  6]\n",
      " [ 8 10 12]\n",
      " [14 16 18]]\n"
     ]
    }
   ],
   "source": [
    "print(arr2 + arr3)"
   ]
  },
  {
   "cell_type": "code",
   "execution_count": 86,
   "id": "c0584f3c",
   "metadata": {},
   "outputs": [
    {
     "name": "stdout",
     "output_type": "stream",
     "text": [
      "[[0 0 0]\n",
      " [0 0 0]\n",
      " [0 0 0]]\n"
     ]
    }
   ],
   "source": [
    "print(arr2 - arr3)"
   ]
  },
  {
   "cell_type": "code",
   "execution_count": 84,
   "id": "7f75632b",
   "metadata": {},
   "outputs": [
    {
     "name": "stdout",
     "output_type": "stream",
     "text": [
      "[[ 1  4  9]\n",
      " [16 25 36]\n",
      " [49 64 81]]\n"
     ]
    }
   ],
   "source": [
    "print(arr2 * arr3)"
   ]
  },
  {
   "cell_type": "code",
   "execution_count": 85,
   "id": "fa2116f1",
   "metadata": {},
   "outputs": [
    {
     "name": "stdout",
     "output_type": "stream",
     "text": [
      "[[        1         4        27]\n",
      " [      256      3125     46656]\n",
      " [   823543  16777216 387420489]]\n"
     ]
    }
   ],
   "source": [
    "print(arr2 ** arr3)"
   ]
  },
  {
   "cell_type": "code",
   "execution_count": 87,
   "id": "cc7557fd",
   "metadata": {},
   "outputs": [
    {
     "name": "stdout",
     "output_type": "stream",
     "text": [
      "[[1. 1. 1.]\n",
      " [1. 1. 1.]\n",
      " [1. 1. 1.]]\n"
     ]
    }
   ],
   "source": [
    "print(arr2 / arr3)"
   ]
  },
  {
   "cell_type": "code",
   "execution_count": 88,
   "id": "795a6365",
   "metadata": {},
   "outputs": [
    {
     "name": "stdout",
     "output_type": "stream",
     "text": [
      "[[ 30  36  42]\n",
      " [ 66  81  96]\n",
      " [102 126 150]]\n"
     ]
    }
   ],
   "source": [
    "print(arr2 @ arr3) # matrix multification"
   ]
  },
  {
   "cell_type": "code",
   "execution_count": 90,
   "id": "971943b2",
   "metadata": {},
   "outputs": [
    {
     "data": {
      "text/plain": [
       "array([[ 30,  36,  42],\n",
       "       [ 66,  81,  96],\n",
       "       [102, 126, 150]])"
      ]
     },
     "execution_count": 90,
     "metadata": {},
     "output_type": "execute_result"
    }
   ],
   "source": [
    "arr2.dot(arr3)"
   ]
  },
  {
   "cell_type": "code",
   "execution_count": 92,
   "id": "6ac5b2d4",
   "metadata": {},
   "outputs": [
    {
     "data": {
      "text/plain": [
       "array([[ 2,  4,  6],\n",
       "       [ 8, 10, 12],\n",
       "       [14, 16, 18]])"
      ]
     },
     "execution_count": 92,
     "metadata": {},
     "output_type": "execute_result"
    }
   ],
   "source": [
    "np.add(arr2,arr3)"
   ]
  },
  {
   "cell_type": "code",
   "execution_count": 94,
   "id": "8a20befa",
   "metadata": {},
   "outputs": [
    {
     "data": {
      "text/plain": [
       "array([[0, 0, 0],\n",
       "       [0, 0, 0],\n",
       "       [0, 0, 0]])"
      ]
     },
     "execution_count": 94,
     "metadata": {},
     "output_type": "execute_result"
    }
   ],
   "source": [
    "np.subtract(arr2,arr3)"
   ]
  },
  {
   "cell_type": "code",
   "execution_count": 96,
   "id": "8808acb5",
   "metadata": {},
   "outputs": [
    {
     "data": {
      "text/plain": [
       "array([[ 1,  4,  9],\n",
       "       [16, 25, 36],\n",
       "       [49, 64, 81]])"
      ]
     },
     "execution_count": 96,
     "metadata": {},
     "output_type": "execute_result"
    }
   ],
   "source": [
    "np.multiply(arr2,arr3)"
   ]
  },
  {
   "cell_type": "code",
   "execution_count": 97,
   "id": "3e29332e",
   "metadata": {},
   "outputs": [
    {
     "data": {
      "text/plain": [
       "array([[1., 1., 1.],\n",
       "       [1., 1., 1.],\n",
       "       [1., 1., 1.]])"
      ]
     },
     "execution_count": 97,
     "metadata": {},
     "output_type": "execute_result"
    }
   ],
   "source": [
    "np.divide(arr2,arr3)"
   ]
  }
 ],
 "metadata": {
  "kernelspec": {
   "display_name": "Python 3 (ipykernel)",
   "language": "python",
   "name": "python3"
  },
  "language_info": {
   "codemirror_mode": {
    "name": "ipython",
    "version": 3
   },
   "file_extension": ".py",
   "mimetype": "text/x-python",
   "name": "python",
   "nbconvert_exporter": "python",
   "pygments_lexer": "ipython3",
   "version": "3.11.3"
  }
 },
 "nbformat": 4,
 "nbformat_minor": 5
}
